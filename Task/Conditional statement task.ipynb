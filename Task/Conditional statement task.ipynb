{
 "cells": [
  {
   "cell_type": "code",
   "execution_count": 1,
   "id": "851432cb",
   "metadata": {},
   "outputs": [
    {
     "name": "stdout",
     "output_type": "stream",
     "text": [
      "Enter a number: 6\n",
      "Even\n"
     ]
    }
   ],
   "source": [
    "num = int(input(\"Enter a number: \"))   \n",
    "if num % 2 == 0:   \n",
    "    print(\"Even\")   \n",
    "else:   \n",
    "    print(\"Odd\")"
   ]
  },
  {
   "cell_type": "code",
   "execution_count": 2,
   "id": "8f6746e9",
   "metadata": {},
   "outputs": [
    {
     "name": "stdout",
     "output_type": "stream",
     "text": [
      "Enter age: 20\n",
      "Eligible to vote\n"
     ]
    }
   ],
   "source": [
    "age = int(input(\"Enter age: \"))   \n",
    "if age >= 18:   \n",
    "    print(\"Eligible to vote\")   \n",
    "else:   \n",
    "    print(\"Not eligible to vote\")"
   ]
  },
  {
   "cell_type": "code",
   "execution_count": 7,
   "id": "185e3e6f",
   "metadata": {},
   "outputs": [
    {
     "name": "stdout",
     "output_type": "stream",
     "text": [
      "Enter a year: 2028\n",
      "Leap Year\n"
     ]
    }
   ],
   "source": [
    "year = int(input(\"Enter a year: \"))   \n",
    "if (year % 4 == 0 and year % 100 != 0) or (year % 400 == 0):   \n",
    "    print(\"Leap Year\")   \n",
    "else:   \n",
    "    print(\"Not a Leap Year\")   "
   ]
  },
  {
   "cell_type": "code",
   "execution_count": 9,
   "id": "95ccfe87",
   "metadata": {},
   "outputs": [
    {
     "name": "stdout",
     "output_type": "stream",
     "text": [
      "Enter a number: 0\n",
      "Zero\n"
     ]
    }
   ],
   "source": [
    "num = int(input(\"Enter a number: \"))   \n",
    "if num > 0:   \n",
    "    print(\"Positive\")   \n",
    "elif num < 0:   \n",
    "    print(\"Negative\")   \n",
    "else:   \n",
    "    print(\"Zero\")  "
   ]
  },
  {
   "cell_type": "code",
   "execution_count": 10,
   "id": "07ebd127",
   "metadata": {},
   "outputs": [
    {
     "name": "stdout",
     "output_type": "stream",
     "text": [
      "Enter first number: 20\n",
      "Enter second number: 30\n",
      "Greatest: 30\n"
     ]
    }
   ],
   "source": [
    "a = int(input(\"Enter first number: \"))   \n",
    "b = int(input(\"Enter second number: \"))   \n",
    "if a > b:   \n",
    "    print(\"Greatest:\", a)   \n",
    "else:   \n",
    "    print(\"Greatest:\", b)"
   ]
  },
  {
   "cell_type": "code",
   "execution_count": 12,
   "id": "b9452e3f",
   "metadata": {},
   "outputs": [
    {
     "name": "stdout",
     "output_type": "stream",
     "text": [
      "Enter a number: 26\n",
      "Not a multiple of 5\n"
     ]
    }
   ],
   "source": [
    "num = int(input(\"Enter a number: \"))   \n",
    "if num % 5 == 0:   \n",
    "    print(\"Multiple of 5\")   \n",
    "else:   \n",
    "    print(\"Not a multiple of 5\")"
   ]
  },
  {
   "cell_type": "code",
   "execution_count": 14,
   "id": "764da102",
   "metadata": {},
   "outputs": [
    {
     "name": "stdout",
     "output_type": "stream",
     "text": [
      "Enter a character: b\n",
      "Consonant\n"
     ]
    }
   ],
   "source": [
    "char = input(\"Enter a character: \").lower()   \n",
    "if char in 'aeiou':   \n",
    "    print(\"Vowel\")   \n",
    "else:   \n",
    "    print(\"Consonant\")   "
   ]
  },
  {
   "cell_type": "code",
   "execution_count": 16,
   "id": "2e4be0c4",
   "metadata": {},
   "outputs": [
    {
     "name": "stdout",
     "output_type": "stream",
     "text": [
      "Enter age: 50\n",
      "Not eligible\n"
     ]
    }
   ],
   "source": [
    "age = int(input(\"Enter age: \"))   \n",
    "if age >= 60:   \n",
    "    print(\"Eligible for senior citizen discount\")   \n",
    "else:   \n",
    "    print(\"Not eligible\")  "
   ]
  },
  {
   "cell_type": "code",
   "execution_count": 18,
   "id": "dea3a7c0",
   "metadata": {},
   "outputs": [
    {
     "name": "stdout",
     "output_type": "stream",
     "text": [
      "Enter a number: 50\n",
      "Not a single-digit number\n"
     ]
    }
   ],
   "source": [
    "num = int(input(\"Enter a number: \"))   \n",
    "if 0 <= abs(num) < 10:   \n",
    "    print(\"Single-digit number\")   \n",
    "else:   \n",
    "    print(\"Not a single-digit number\")"
   ]
  },
  {
   "cell_type": "code",
   "execution_count": 21,
   "id": "409ebcaa",
   "metadata": {},
   "outputs": [
    {
     "name": "stdout",
     "output_type": "stream",
     "text": [
      "Enter hour (24-hour format): 13\n",
      "Good Afternoon\n"
     ]
    }
   ],
   "source": [
    "hour = int(input(\"Enter hour (24-hour format): \"))   \n",
    "if hour < 12:   \n",
    "    print(\"Good Morning\")   \n",
    "else:   \n",
    "    print(\"Good Afternoon\")"
   ]
  },
  {
   "cell_type": "code",
   "execution_count": 23,
   "id": "30fbb9f7",
   "metadata": {},
   "outputs": [
    {
     "name": "stdout",
     "output_type": "stream",
     "text": [
      "Enter a string: hye\n",
      "String is not empty\n"
     ]
    }
   ],
   "source": [
    "s = input(\"Enter a string: \")   \n",
    "if not s:   \n",
    "    print(\"String is empty\")   \n",
    "else:   \n",
    "    print(\"String is not empty\")"
   ]
  },
  {
   "cell_type": "code",
   "execution_count": 25,
   "id": "d753503e",
   "metadata": {},
   "outputs": [
    {
     "name": "stdout",
     "output_type": "stream",
     "text": [
      "Enter a number: 16\n",
      "Perfect Square\n"
     ]
    }
   ],
   "source": [
    "import math   \n",
    "num = int(input(\"Enter a number: \"))   \n",
    "if math.isqrt(num) ** 2 == num:   \n",
    "    print(\"Perfect Square\")   \n",
    "else:   \n",
    "    print(\"Not a perfect square\")   "
   ]
  },
  {
   "cell_type": "code",
   "execution_count": 27,
   "id": "d08d8f98",
   "metadata": {},
   "outputs": [
    {
     "name": "stdout",
     "output_type": "stream",
     "text": [
      "Enter a number: 120\n",
      "Out of range\n"
     ]
    }
   ],
   "source": [
    "num = int(input(\"Enter a number: \"))   \n",
    "if 1 <= num <= 100:   \n",
    "    print(\"Within range\")   \n",
    "else:   \n",
    "    print(\"Out of range\")"
   ]
  },
  {
   "cell_type": "code",
   "execution_count": 6,
   "id": "f05d52cb",
   "metadata": {},
   "outputs": [
    {
     "name": "stdout",
     "output_type": "stream",
     "text": [
      "Enter a day: wednesday\n",
      "Weekday\n"
     ]
    }
   ],
   "source": [
    "day = input(\"Enter a day: \").lower()   \n",
    "if day in [\"saturday\", \"sunday\"]:   \n",
    "    print(\"Weekend\")   \n",
    "else:   \n",
    "    print(\"Weekday\")  "
   ]
  },
  {
   "cell_type": "code",
   "execution_count": 8,
   "id": "df745909",
   "metadata": {},
   "outputs": [
    {
     "name": "stdout",
     "output_type": "stream",
     "text": [
      "Enter a number: 49\n",
      "Not divisible by both\n"
     ]
    }
   ],
   "source": [
    "num = int(input(\"Enter a number: \"))   \n",
    "if num % 3 == 0 and num % 7 == 0:   \n",
    "    print(\"Divisible by 3 and 7\")   \n",
    "else:   \n",
    "    print(\"Not divisible by both\")"
   ]
  },
  {
   "cell_type": "code",
   "execution_count": 10,
   "id": "f20b75bd",
   "metadata": {},
   "outputs": [
    {
     "name": "stdout",
     "output_type": "stream",
     "text": [
      "Enter first number: 50\n",
      "Enter second number: 20\n",
      "Sum is 100 or less\n"
     ]
    }
   ],
   "source": [
    "a = int(input(\"Enter first number: \"))   \n",
    "b = int(input(\"Enter second number: \"))   \n",
    "if (a + b) > 100:   \n",
    "    print(\"Sum is greater than 100\")   \n",
    "else:   \n",
    "    print(\"Sum is 100 or less\") "
   ]
  },
  {
   "cell_type": "code",
   "execution_count": 11,
   "id": "7b982d33",
   "metadata": {},
   "outputs": [
    {
     "name": "stdout",
     "output_type": "stream",
     "text": [
      "Enter first number: 20\n",
      "Enter second number: 30\n",
      "Minimum: 20\n"
     ]
    }
   ],
   "source": [
    "a = int(input(\"Enter first number: \"))   \n",
    "b = int(input(\"Enter second number: \"))   \n",
    "if a < b:   \n",
    "    print(\"Minimum:\", a)   \n",
    "else:   \n",
    "    print(\"Minimum:\", b)"
   ]
  },
  {
   "cell_type": "code",
   "execution_count": 16,
   "id": "27f5c21d",
   "metadata": {},
   "outputs": [
    {
     "name": "stdout",
     "output_type": "stream",
     "text": [
      "Enter a number: 4\n",
      "Divisible by 2 but not by 3\n"
     ]
    }
   ],
   "source": [
    " # Check if a number is divisible by 2 but not by 3 \n",
    "\n",
    "num = int(input(\"Enter a number: \"))   \n",
    "if num % 2 == 0 and num % 3 != 0:   \n",
    "    print(\"Divisible by 2 but not by 3\")   \n",
    "else:   \n",
    "    print(\"Does not meet criteria\")"
   ]
  },
  {
   "cell_type": "code",
   "execution_count": 18,
   "id": "2d033901",
   "metadata": {},
   "outputs": [
    {
     "name": "stdout",
     "output_type": "stream",
     "text": [
      "Enter an alphabet: A\n",
      "Uppercase\n"
     ]
    }
   ],
   "source": [
    "char = input(\"Enter an alphabet: \")   \n",
    "if char.isupper():   \n",
    "    print(\"Uppercase\")   \n",
    "else:   \n",
    "    print(\"Lowercase\")"
   ]
  },
  {
   "cell_type": "code",
   "execution_count": 21,
   "id": "9916a557",
   "metadata": {},
   "outputs": [
    {
     "name": "stdout",
     "output_type": "stream",
     "text": [
      "Enter first side: 4\n",
      "Enter second side: 2\n",
      "Enter third side: 8\n",
      "Invalid Triangle\n"
     ]
    }
   ],
   "source": [
    "a = int(input(\"Enter first side: \"))   \n",
    "b = int(input(\"Enter second side: \"))   \n",
    "c = int(input(\"Enter third side: \"))   \n",
    "if a + b > c and a + c > b and b + c > a:   \n",
    "    print(\"Valid Triangle\")\n",
    "else:\n",
    "     print(\"Invalid Triangle\")"
   ]
  },
  {
   "cell_type": "code",
   "execution_count": 22,
   "id": "2da3b937",
   "metadata": {},
   "outputs": [
    {
     "name": "stdout",
     "output_type": "stream",
     "text": [
      "Enter first number: 80\n",
      "Enter second number: 90\n",
      "Enter third number: 60\n",
      "Largest: 90\n"
     ]
    }
   ],
   "source": [
    "a = int(input(\"Enter first number: \"))   \n",
    "b = int(input(\"Enter second number: \"))   \n",
    "c = int(input(\"Enter third number: \"))   \n",
    "if a >= b and a >= c:   \n",
    "    print(\"Largest:\", a)   \n",
    "elif b >= a and b >= c:   \n",
    "    print(\"Largest:\", b)   \n",
    "else:   \n",
    "    print(\"Largest:\", c)"
   ]
  },
  {
   "cell_type": "code",
   "execution_count": 29,
   "id": "ac3b8f79",
   "metadata": {},
   "outputs": [
    {
     "name": "stdout",
     "output_type": "stream",
     "text": [
      "Enter a number: 5\n",
      "Prime number\n"
     ]
    }
   ],
   "source": [
    "num = int(input(\"Enter a number: \"))   \n",
    "if num > 1:   \n",
    "    for i in range(2, int(num**0.5) + 1):   \n",
    "        if num % i == 0:   \n",
    "            print(\"Not a prime number\")   \n",
    "            break   \n",
    "    else:   \n",
    "        print(\"Prime number\")   \n",
    "else:   \n",
    "    print(\"Not a prime number\")"
   ]
  },
  {
   "cell_type": "code",
   "execution_count": 31,
   "id": "a375fbd9",
   "metadata": {},
   "outputs": [
    {
     "name": "stdout",
     "output_type": "stream",
     "text": [
      "Enter age: 18\n",
      "Did you pass the driving test? (yes/no): yes\n",
      "Eligible for a driving license\n"
     ]
    }
   ],
   "source": [
    "age = int(input(\"Enter age: \"))   \n",
    "passed_test = input(\"Did you pass the driving test? (yes/no): \").lower()   \n",
    "if age >= 18 and passed_test == \"yes\":   \n",
    "    print(\"Eligible for a driving license\")   \n",
    "else:   \n",
    "    print(\"Not eligible\")"
   ]
  },
  {
   "cell_type": "code",
   "execution_count": 34,
   "id": "63d8e83c",
   "metadata": {},
   "outputs": [
    {
     "name": "stdout",
     "output_type": "stream",
     "text": [
      "Enter first side: 30\n",
      "Enter second side: 40\n",
      "Enter third side: 50\n",
      "Scalene Triangle\n"
     ]
    }
   ],
   "source": [
    "a = int(input(\"Enter first side: \"))   \n",
    "b = int(input(\"Enter second side: \"))   \n",
    "c = int(input(\"Enter third side: \"))   \n",
    "if a == b == c:   \n",
    "    print(\"Equilateral Triangle\")   \n",
    "elif a == b or b == c or a == c:   \n",
    "    print(\"Isosceles Triangle\")   \n",
    "else:   \n",
    "    print(\"Scalene Triangle\")"
   ]
  },
  {
   "cell_type": "code",
   "execution_count": 37,
   "id": "232f850a",
   "metadata": {},
   "outputs": [
    {
     "name": "stdout",
     "output_type": "stream",
     "text": [
      "Enter marks: 100\n",
      "Pass\n"
     ]
    }
   ],
   "source": [
    "marks = int(input(\"Enter marks: \"))   \n",
    "if marks >= 40:   \n",
    "    print(\"Pass\")   \n",
    "else:   \n",
    "    print(\"Fail\")   "
   ]
  },
  {
   "cell_type": "code",
   "execution_count": 43,
   "id": "b1dbc287",
   "metadata": {},
   "outputs": [
    {
     "name": "stdout",
     "output_type": "stream",
     "text": [
      "Enter a number: 98789\n",
      "Palindrome\n"
     ]
    }
   ],
   "source": [
    "num = input(\"Enter a number: \")   \n",
    "if num == num[::-1]:   \n",
    "    print(\"Palindrome\")   \n",
    "else:   \n",
    "    print(\"Not a Palindrome\")"
   ]
  },
  {
   "cell_type": "code",
   "execution_count": 48,
   "id": "e08d4f5d",
   "metadata": {},
   "outputs": [
    {
     "name": "stdout",
     "output_type": "stream",
     "text": [
      "Enter electricity units consumed: 100\n",
      "Total Bill: ₹ 500\n"
     ]
    }
   ],
   "source": [
    "units = int(input(\"Enter electricity units consumed: \"))   \n",
    "if units <= 100:   \n",
    "    bill = units * 5   \n",
    "elif units <= 300:   \n",
    "    bill = (100 * 5) + (units - 100) * 10   \n",
    "else:   \n",
    "    bill = (100 * 5) + (200 * 10) + (units - 300) * 15   \n",
    "print(\"Total Bill: ₹\", bill)"
   ]
  },
  {
   "cell_type": "code",
   "execution_count": 49,
   "id": "1c51e56d",
   "metadata": {},
   "outputs": [
    {
     "name": "stdout",
     "output_type": "stream",
     "text": [
      "Enter marks: 98\n",
      "Grade: A\n"
     ]
    }
   ],
   "source": [
    "marks = int(input(\"Enter marks: \"))   \n",
    "if marks >= 90:   \n",
    "    print(\"Grade: A\")   \n",
    "elif marks >= 80:   \n",
    "    print(\"Grade: B\")   \n",
    "elif marks >= 70:   \n",
    "    print(\"Grade: C\")   \n",
    "elif marks >= 60:   \n",
    "    print(\"Grade: D\")   \n",
    "elif marks >= 40:   \n",
    "    print(\"Grade: E\")   \n",
    "else:   \n",
    "    print(\"Grade: F (Fail)\")  "
   ]
  },
  {
   "cell_type": "code",
   "execution_count": 54,
   "id": "67314aa6",
   "metadata": {},
   "outputs": [
    {
     "name": "stdout",
     "output_type": "stream",
     "text": [
      "Enter day: 20\n",
      "Enter month: 4\n",
      "Enter year: 1995\n",
      "Valid date\n"
     ]
    }
   ],
   "source": [
    "import calendar   \n",
    "day = int(input(\"Enter day: \"))   \n",
    "month = int(input(\"Enter month: \"))   \n",
    "year = int(input(\"Enter year: \"))   \n",
    "if 1 <= month <= 12 and 1 <= day <= calendar.monthrange(year, month)[1]:   \n",
    "    print(\"Valid date\")   \n",
    "else:   \n",
    "    print(\"Invalid date\")"
   ]
  },
  {
   "cell_type": "code",
   "execution_count": 57,
   "id": "aa137341",
   "metadata": {},
   "outputs": [
    {
     "name": "stdout",
     "output_type": "stream",
     "text": [
      "Enter hour (24-hour format): 1\n",
      "AM\n"
     ]
    }
   ],
   "source": [
    "hour = int(input(\"Enter hour (24-hour format): \"))   \n",
    "if hour < 12:   \n",
    "    print(\"AM\")   \n",
    "else:   \n",
    "    print(\"PM\")"
   ]
  },
  {
   "cell_type": "code",
   "execution_count": 59,
   "id": "19355793",
   "metadata": {},
   "outputs": [
    {
     "name": "stdout",
     "output_type": "stream",
     "text": [
      "Enter a number: 370\n",
      "Armstrong Number\n"
     ]
    }
   ],
   "source": [
    "num = input(\"Enter a number: \")   \n",
    "power = len(num)   \n",
    "if sum(int(digit) ** power for digit in num) == int(num):   \n",
    "    print(\"Armstrong Number\")   \n",
    "else:   \n",
    "    print(\"Not an Armstrong Number\")"
   ]
  },
  {
   "cell_type": "code",
   "execution_count": 62,
   "id": "04b51501",
   "metadata": {},
   "outputs": [
    {
     "name": "stdout",
     "output_type": "stream",
     "text": [
      "Enter first side: 40\n",
      "Enter second side: 50\n",
      "Enter third side: 60\n",
      "Enter fourth side: 70\n",
      "Other Quadrilateral\n"
     ]
    }
   ],
   "source": [
    "a = int(input(\"Enter first side: \"))   \n",
    "b = int(input(\"Enter second side: \"))   \n",
    "c = int(input(\"Enter third side: \"))   \n",
    "d = int(input(\"Enter fourth side: \"))   \n",
    "if a == b == c == d:   \n",
    "    print(\"Square\")   \n",
    "elif a == c and b == d:   \n",
    "    print(\"Rectangle\")   \n",
    "else:   \n",
    "    print(\"Other Quadrilateral\")"
   ]
  },
  {
   "cell_type": "code",
   "execution_count": 66,
   "id": "748fe35b",
   "metadata": {},
   "outputs": [
    {
     "name": "stdout",
     "output_type": "stream",
     "text": [
      "Enter first number: 5\n",
      "Enter second number: 6\n",
      "Enter operation (+, -, *, /): *\n",
      "Result: 30.0\n"
     ]
    }
   ],
   "source": [
    "a = float(input(\"Enter first number: \"))   \n",
    "b = float(input(\"Enter second number: \"))   \n",
    "op = input(\"Enter operation (+, -, *, /): \")   \n",
    "if op == \"+\":   \n",
    "    print(\"Result:\", a + b)   \n",
    "elif op == \"-\":   \n",
    "    print(\"Result:\", a - b)   \n",
    "elif op == \"*\":   \n",
    "    print(\"Result:\", a * b)   \n",
    "elif op == \"/\":   \n",
    "    print(\"Result:\", a / b)   \n",
    "else:   \n",
    "    print(\"Invalid operation\")"
   ]
  },
  {
   "cell_type": "code",
   "execution_count": 69,
   "id": "6ca8b0bd",
   "metadata": {},
   "outputs": [
    {
     "name": "stdout",
     "output_type": "stream",
     "text": [
      "Enter account balance: 5000000\n",
      "Enter withdrawal amount: 500000\n",
      "Withdrawal successful\n"
     ]
    }
   ],
   "source": [
    "balance = float(input(\"Enter account balance: \"))   \n",
    "withdraw = float(input(\"Enter withdrawal amount: \"))   \n",
    "if balance >= withdraw:   \n",
    "    print(\"Withdrawal successful\")   \n",
    "else:   \n",
    "    print(\"Insufficient funds\")"
   ]
  },
  {
   "cell_type": "code",
   "execution_count": 72,
   "id": "15189401",
   "metadata": {},
   "outputs": [
    {
     "name": "stdout",
     "output_type": "stream",
     "text": [
      "Enter temperature: 30\n",
      "Enter unit (C/F): F\n",
      "Celsius: -1.1111111111111112\n"
     ]
    }
   ],
   "source": [
    "temp = float(input(\"Enter temperature: \"))   \n",
    "unit = input(\"Enter unit (C/F): \").upper()   \n",
    "if unit == \"C\":   \n",
    "    print(\"Fahrenheit:\", (temp * 9/5) + 32)   \n",
    "elif unit == \"F\":   \n",
    "    print(\"Celsius:\", (temp - 32) * 5/9)   \n",
    "else:   \n",
    "    print(\"Invalid unit\")"
   ]
  },
  {
   "cell_type": "code",
   "execution_count": 75,
   "id": "86bf2630",
   "metadata": {},
   "outputs": [
    {
     "name": "stdout",
     "output_type": "stream",
     "text": [
      "Enter a number: 101\n",
      "Out of range\n"
     ]
    }
   ],
   "source": [
    "num = int(input(\"Enter a number: \"))   \n",
    "if 50 <= num <= 100:   \n",
    "    print(\"Within range\")   \n",
    "else:   \n",
    "    print(\"Out of range\")"
   ]
  },
  {
   "cell_type": "code",
   "execution_count": 77,
   "id": "8eca96bd",
   "metadata": {},
   "outputs": [
    {
     "name": "stdout",
     "output_type": "stream",
     "text": [
      "Enter a year: 2000\n",
      "Century Year\n"
     ]
    }
   ],
   "source": [
    "year = int(input(\"Enter a year: \"))   \n",
    "if year % 100 == 0:   \n",
    "    print(\"Century Year\")   \n",
    "else:   \n",
    "    print(\"Not a Century Year\") "
   ]
  },
  {
   "cell_type": "code",
   "execution_count": 80,
   "id": "b5ef65ea",
   "metadata": {},
   "outputs": [
    {
     "name": "stdout",
     "output_type": "stream",
     "text": [
      "Enter a number: 16\n",
      "Power of 2\n"
     ]
    }
   ],
   "source": [
    "num = int(input(\"Enter a number: \"))   \n",
    "if num > 0 and (num & (num - 1)) == 0:   \n",
    "    print(\"Power of 2\")   \n",
    "else:   \n",
    "    print(\"Not a Power of 2\")"
   ]
  },
  {
   "cell_type": "code",
   "execution_count": 1,
   "id": "6643c50a",
   "metadata": {},
   "outputs": [
    {
     "name": "stdout",
     "output_type": "stream",
     "text": [
      "Enter month (1-12): 2\n",
      "Enter year: 2025\n",
      "Days: 28\n"
     ]
    }
   ],
   "source": [
    "month = int(input(\"Enter month (1-12): \"))   \n",
    "year = int(input(\"Enter year: \"))   \n",
    "days = [31, 28 + (1 if (year % 4 == 0 and year % 100 != 0) or (year % 400 == 0) else 0), 31, \n",
    "30, 31, 30, 31, 31, 30, 31, 30, 31]   \n",
    "print(\"Days:\", days[month - 1])"
   ]
  },
  {
   "cell_type": "code",
   "execution_count": 4,
   "id": "ef1d48c3",
   "metadata": {},
   "outputs": [
    {
     "name": "stdout",
     "output_type": "stream",
     "text": [
      "Enter password: Aerobic@90\n",
      "Valid Password\n"
     ]
    }
   ],
   "source": [
    "import re   \n",
    "password = input(\"Enter password: \")   \n",
    "if len(password) >= 8 and re.search(r\"[A-Za-z]\", password) and re.search(r\"\\d\", password):   \n",
    "    print(\"Valid Password\")   \n",
    "else:   \n",
    "    print(\"Invalid Password\")"
   ]
  },
  {
   "cell_type": "code",
   "execution_count": 8,
   "id": "6e9af31b",
   "metadata": {},
   "outputs": [
    {
     "name": "stdout",
     "output_type": "stream",
     "text": [
      "Enter age: 25\n",
      "Ticket Price: ₹100\n"
     ]
    }
   ],
   "source": [
    "age = int(input(\"Enter age: \"))\n",
    "if age < 5:   \n",
    "    print(\"Ticket Price: Free\")   \n",
    "elif age >= 60:   \n",
    "    print(\"Ticket Price: ₹50\")   \n",
    "else:   \n",
    "    print(\"Ticket Price: ₹100\")"
   ]
  },
  {
   "cell_type": "code",
   "execution_count": 10,
   "id": "d9806a32",
   "metadata": {},
   "outputs": [
    {
     "name": "stdout",
     "output_type": "stream",
     "text": [
      "Enter three numbers: 5 6 7\n",
      "Not a Pythagorean Triplet\n"
     ]
    }
   ],
   "source": [
    "a, b, c = sorted(map(int, input(\"Enter three numbers: \").split()))   \n",
    "if a**2 + b**2 == c**2:   \n",
    "    print(\"Pythagorean Triplet\")   \n",
    "else:   \n",
    "    print(\"Not a Pythagorean Triplet\")"
   ]
  },
  {
   "cell_type": "code",
   "execution_count": 11,
   "id": "91224160",
   "metadata": {},
   "outputs": [
    {
     "name": "stdout",
     "output_type": "stream",
     "text": [
      "Enter Roman numeral: V\n",
      "Integer: 5\n"
     ]
    }
   ],
   "source": [
    "def roman_to_int(s):   \n",
    "    roman = {'I': 1, 'V': 5, 'X': 10, 'L': 50, 'C': 100, 'D': 500, 'M': 1000}   \n",
    "    total = 0   \n",
    "    for i in range(len(s)):   \n",
    "        if i > 0 and roman[s[i]] > roman[s[i - 1]]:   \n",
    "            total += roman[s[i]] - 2 * roman[s[i - 1]]   \n",
    "        else:   \n",
    "            total += roman[s[i]]   \n",
    "    return total   \n",
    " \n",
    "num = input(\"Enter Roman numeral: \").upper()   \n",
    "print(\"Integer:\", roman_to_int(num))"
   ]
  },
  {
   "cell_type": "code",
   "execution_count": 13,
   "id": "79cf1241",
   "metadata": {},
   "outputs": [
    {
     "name": "stdout",
     "output_type": "stream",
     "text": [
      "Enter birth month (1-12): 2\n",
      "Enter birth day: 5\n",
      "Zodiac Sign: Aquarius\n"
     ]
    }
   ],
   "source": [
    "month = int(input(\"Enter birth month (1-12): \"))   \n",
    "day = int(input(\"Enter birth day: \"))   \n",
    " \n",
    "zodiac = [(\"Capricorn\", 20), (\"Aquarius\", 19), (\"Pisces\", 20), (\"Aries\", 20),   \n",
    "          (\"Taurus\", 21), (\"Gemini\", 21), (\"Cancer\", 22), (\"Leo\", 22),   \n",
    "          (\"Virgo\", 22), (\"Libra\", 23), (\"Scorpio\", 23), (\"Sagittarius\", 22), (\"Capricorn\", 31)]   \n",
    " \n",
    "sign = zodiac[month - 1][0] if day <= zodiac[month - 1][1] else zodiac[month][0]   \n",
    "print(\"Zodiac Sign:\", sign)"
   ]
  },
  {
   "cell_type": "code",
   "execution_count": 4,
   "id": "9b247efb",
   "metadata": {},
   "outputs": [
    {
     "name": "stdout",
     "output_type": "stream",
     "text": [
      "Enter a number: 21\n",
      "Harshad Number\n"
     ]
    }
   ],
   "source": [
    "num = int(input(\"Enter a number: \"))   \n",
    "sum_digits = sum(int(digit) for digit in str(num))   \n",
    "if num % sum_digits == 0:   \n",
    "    print(\"Harshad Number\")   \n",
    "else:   \n",
    "    print(\"Not a Harshad Number\")"
   ]
  },
  {
   "cell_type": "code",
   "execution_count": 7,
   "id": "d82c2e8c",
   "metadata": {},
   "outputs": [
    {
     "name": "stdout",
     "output_type": "stream",
     "text": [
      "Enter email: ronitadas05@gmail.com\n",
      "Valid Email\n"
     ]
    }
   ],
   "source": [
    "import re   \n",
    "email = input(\"Enter email: \")   \n",
    "if re.match(r\"^[\\w\\.-]+@[\\w\\.-]+\\.(com|org|net|edu)$\", email):\n",
    "    print(\"Valid Email\")   \n",
    "else:   \n",
    "    print(\"Invalid Email\")"
   ]
  },
  {
   "cell_type": "code",
   "execution_count": 18,
   "id": "dbaea659",
   "metadata": {},
   "outputs": [
    {
     "name": "stdout",
     "output_type": "stream",
     "text": [
      "Enter current position (x y): 2 2\n",
      "Enter new position (x y): 0 3\n",
      "Valid Knight Move\n"
     ]
    }
   ],
   "source": [
    "x1, y1 = map(int, input(\"Enter current position (x y): \").split())   \n",
    "x2, y2 = map(int, input(\"Enter new position (x y): \").split())   \n",
    " \n",
    "if (abs(x1 - x2), abs(y1 - y2)) in [(2, 1), (1, 2)]:   \n",
    "    print(\"Valid Knight Move\")   \n",
    "else:   \n",
    "    print(\"Invalid Move\")"
   ]
  },
  {
   "cell_type": "code",
   "execution_count": 19,
   "id": "cb315d7a",
   "metadata": {},
   "outputs": [
    {
     "name": "stdout",
     "output_type": "stream",
     "text": [
      "Enter monthly income: 70000\n",
      "Enter credit score: 800\n",
      "Are you employed? (yes/no): yes\n",
      "Loan Approved\n"
     ]
    }
   ],
   "source": [
    "income = int(input(\"Enter monthly income: \"))   \n",
    "credit_score = int(input(\"Enter credit score: \"))   \n",
    "employed = input(\"Are you employed? (yes/no): \").lower()   \n",
    " \n",
    "if income >= 25000 and credit_score >= 700 and employed == \"yes\":   \n",
    "    print(\"Loan Approved\")   \n",
    "else:   \n",
    "    print(\"Loan Denied\")"
   ]
  },
  {
   "cell_type": "code",
   "execution_count": 32,
   "id": "c3daa0c8",
   "metadata": {},
   "outputs": [
    {
     "name": "stdout",
     "output_type": "stream",
     "text": [
      "Enter rock, paper, or scissors: paper\n",
      "Computer chose: rock\n",
      "You win!\n"
     ]
    }
   ],
   "source": [
    "import random   \n",
    "choices = [\"rock\", \"paper\", \"scissors\"]   \n",
    "user = input(\"Enter rock, paper, or scissors: \").lower()   \n",
    "computer = random.choice(choices)   \n",
    " \n",
    "print(\"Computer chose:\", computer)   \n",
    "if user == computer:   \n",
    "    print(\"It's a tie!\")   \n",
    "elif (user == \"rock\" and computer == \"scissors\") or (user == \"scissors\" and computer == \"paper\") or (user == \"paper\" and computer == \"rock\"):\n",
    "            print(\"You win!\")\n",
    "else:\n",
    "    print(\"You lose!\")"
   ]
  },
  {
   "cell_type": "code",
   "execution_count": 35,
   "id": "57642248",
   "metadata": {},
   "outputs": [
    {
     "name": "stdout",
     "output_type": "stream",
     "text": [
      "Enter date (DD MM YYYY): 05 02 1990\n",
      "Day of the Week: Monday\n"
     ]
    }
   ],
   "source": [
    "def day_of_week(d, m, y):   \n",
    "    if m < 3:   \n",
    "        m += 12   \n",
    "        y -= 1   \n",
    "    k = y % 100   \n",
    "    j = y // 100   \n",
    "    day = (d + (13 * (m + 1)) // 5 + k + (k // 4) + (j // 4) - 2 * j) % 7   \n",
    "    days = [\"Saturday\", \"Sunday\", \"Monday\", \"Tuesday\", \"Wednesday\", \"Thursday\", \"Friday\"]   \n",
    "    return days[day]   \n",
    " \n",
    "day, month, year = map(int, input(\"Enter date (DD MM YYYY): \").split())\n",
    "print(\"Day of the Week:\", day_of_week(day, month, year))"
   ]
  },
  {
   "cell_type": "code",
   "execution_count": null,
   "id": "4bcbc737",
   "metadata": {},
   "outputs": [],
   "source": []
  },
  {
   "cell_type": "code",
   "execution_count": null,
   "id": "55b0d6ab",
   "metadata": {},
   "outputs": [],
   "source": []
  }
 ],
 "metadata": {
  "kernelspec": {
   "display_name": "Python 3 (ipykernel)",
   "language": "python",
   "name": "python3"
  },
  "language_info": {
   "codemirror_mode": {
    "name": "ipython",
    "version": 3
   },
   "file_extension": ".py",
   "mimetype": "text/x-python",
   "name": "python",
   "nbconvert_exporter": "python",
   "pygments_lexer": "ipython3",
   "version": "3.9.13"
  }
 },
 "nbformat": 4,
 "nbformat_minor": 5
}
