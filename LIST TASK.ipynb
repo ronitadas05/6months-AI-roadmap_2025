{
 "cells": [
  {
   "cell_type": "code",
   "execution_count": 1,
   "id": "7c4055a0",
   "metadata": {},
   "outputs": [
    {
     "data": {
      "text/plain": [
       "'name, age, gender'"
      ]
     },
     "execution_count": 1,
     "metadata": {},
     "output_type": "execute_result"
    }
   ],
   "source": [
    "txt=(\"name, age, gender\")\n",
    "txt.lstrip()"
   ]
  },
  {
   "cell_type": "code",
   "execution_count": 2,
   "id": "7f39bb81",
   "metadata": {},
   "outputs": [
    {
     "data": {
      "text/plain": [
       "'name, age, gender'"
      ]
     },
     "execution_count": 2,
     "metadata": {},
     "output_type": "execute_result"
    }
   ],
   "source": [
    "txt=(\"name, age, gender\")\n",
    "txt.strip()"
   ]
  },
  {
   "cell_type": "markdown",
   "id": "ed8a089b",
   "metadata": {},
   "source": [
    "Using Escape Character"
   ]
  },
  {
   "cell_type": "code",
   "execution_count": 3,
   "id": "469a1626",
   "metadata": {},
   "outputs": [
    {
     "ename": "SyntaxError",
     "evalue": "invalid syntax (3324257476.py, line 2)",
     "output_type": "error",
     "traceback": [
      "\u001b[1;36m  File \u001b[1;32m\"C:\\Users\\91700\\AppData\\Local\\Temp\\ipykernel_9800\\3324257476.py\"\u001b[1;36m, line \u001b[1;32m2\u001b[0m\n\u001b[1;33m    job= \"I got selected for the post of \"Data Scientiest\"\"\u001b[0m\n\u001b[1;37m                                          ^\u001b[0m\n\u001b[1;31mSyntaxError\u001b[0m\u001b[1;31m:\u001b[0m invalid syntax\n"
     ]
    }
   ],
   "source": [
    "# using double quotes in the string is not allowed\n",
    "job= \"I got selected for the post of \"Data Scientiest\"\""
   ]
  },
  {
   "cell_type": "code",
   "execution_count": 4,
   "id": "4a80bcb0",
   "metadata": {},
   "outputs": [
    {
     "name": "stdout",
     "output_type": "stream",
     "text": [
      "I got selected for the post of \"Data scientiest\"\n"
     ]
    }
   ],
   "source": [
    "#Using escape character to allow illegal characters\n",
    "job=\"I got selected for the post of \\\"Data scientiest\\\"\"\n",
    "print(job)"
   ]
  },
  {
   "cell_type": "markdown",
   "id": "4f75d499",
   "metadata": {},
   "source": [
    "# List Creation"
   ]
  },
  {
   "cell_type": "code",
   "execution_count": 5,
   "id": "4198a398",
   "metadata": {},
   "outputs": [
    {
     "name": "stdout",
     "output_type": "stream",
     "text": [
      "<class 'list'>\n"
     ]
    }
   ],
   "source": [
    "z1=[] # Empty List\n",
    "print(type(z1))"
   ]
  },
  {
   "cell_type": "code",
   "execution_count": 6,
   "id": "4cccb2f8",
   "metadata": {},
   "outputs": [],
   "source": [
    "z2=[10,20,30] #list of integer numbers"
   ]
  },
  {
   "cell_type": "code",
   "execution_count": 7,
   "id": "255d8a8a",
   "metadata": {},
   "outputs": [],
   "source": [
    "z3=[10.1, 20.2, 30.3] #list of float numbers"
   ]
  },
  {
   "cell_type": "code",
   "execution_count": 8,
   "id": "5be7e3c0",
   "metadata": {},
   "outputs": [],
   "source": [
    "z4=['five','six','seven'] #list of strings"
   ]
  },
  {
   "cell_type": "code",
   "execution_count": 9,
   "id": "b897c7b2",
   "metadata": {},
   "outputs": [],
   "source": [
    "z5=['Ronita', 34, [50,100], [150,90]] #nested lists"
   ]
  },
  {
   "cell_type": "code",
   "execution_count": 10,
   "id": "2d67cf17",
   "metadata": {},
   "outputs": [],
   "source": [
    "z6=['Ronita', 34, 100, 10.10] #list of mixed datatypes"
   ]
  },
  {
   "cell_type": "code",
   "execution_count": 11,
   "id": "fabc8f6e",
   "metadata": {},
   "outputs": [],
   "source": [
    "z7=['Ronita', 34, [50,100], [150,90], {'Riya', 'Misti'}]"
   ]
  },
  {
   "cell_type": "code",
   "execution_count": 12,
   "id": "ab52160d",
   "metadata": {},
   "outputs": [
    {
     "data": {
      "text/plain": [
       "4"
      ]
     },
     "execution_count": 12,
     "metadata": {},
     "output_type": "execute_result"
    }
   ],
   "source": [
    "len(z6)"
   ]
  },
  {
   "cell_type": "markdown",
   "id": "21b1602f",
   "metadata": {},
   "source": [
    "# List indexing"
   ]
  },
  {
   "cell_type": "code",
   "execution_count": 13,
   "id": "0160759e",
   "metadata": {},
   "outputs": [
    {
     "data": {
      "text/plain": [
       "10"
      ]
     },
     "execution_count": 13,
     "metadata": {},
     "output_type": "execute_result"
    }
   ],
   "source": [
    "z2[0] # Retreive first element of the list"
   ]
  },
  {
   "cell_type": "code",
   "execution_count": 14,
   "id": "d03cd06e",
   "metadata": {},
   "outputs": [
    {
     "data": {
      "text/plain": [
       "'five'"
      ]
     },
     "execution_count": 14,
     "metadata": {},
     "output_type": "execute_result"
    }
   ],
   "source": [
    "z4[0] # Retreive first element of the list "
   ]
  },
  {
   "cell_type": "code",
   "execution_count": 15,
   "id": "7ce66496",
   "metadata": {},
   "outputs": [
    {
     "data": {
      "text/plain": [
       "'f'"
      ]
     },
     "execution_count": 15,
     "metadata": {},
     "output_type": "execute_result"
    }
   ],
   "source": [
    "z4[0][0] # Nested indexing - Access the first character of the first list element"
   ]
  },
  {
   "cell_type": "code",
   "execution_count": 16,
   "id": "cfc47a3e",
   "metadata": {},
   "outputs": [
    {
     "data": {
      "text/plain": [
       "'seven'"
      ]
     },
     "execution_count": 16,
     "metadata": {},
     "output_type": "execute_result"
    }
   ],
   "source": [
    "z4[-1] # Last item of the list "
   ]
  },
  {
   "cell_type": "code",
   "execution_count": 17,
   "id": "7223ca7f",
   "metadata": {},
   "outputs": [
    {
     "data": {
      "text/plain": [
       "[150, 90]"
      ]
     },
     "execution_count": 17,
     "metadata": {},
     "output_type": "execute_result"
    }
   ],
   "source": [
    "z5[-1] # Last item of the list "
   ]
  },
  {
   "cell_type": "markdown",
   "id": "c4685c18",
   "metadata": {},
   "source": [
    "# List slicing"
   ]
  },
  {
   "cell_type": "code",
   "execution_count": 19,
   "id": "131111da",
   "metadata": {},
   "outputs": [],
   "source": [
    "divine = ['one' , 'two' , 'three' , 'four' , 'five' , 'six' , 'seven' , 'eight']"
   ]
  },
  {
   "cell_type": "code",
   "execution_count": 20,
   "id": "4f75cfa1",
   "metadata": {},
   "outputs": [
    {
     "data": {
      "text/plain": [
       "['one', 'two', 'three', 'four', 'five']"
      ]
     },
     "execution_count": 20,
     "metadata": {},
     "output_type": "execute_result"
    }
   ],
   "source": [
    "divine[0:5]  # Return all items from 0th to 3rd index location excluding the item "
   ]
  },
  {
   "cell_type": "code",
   "execution_count": 21,
   "id": "d04e3753",
   "metadata": {},
   "outputs": [
    {
     "data": {
      "text/plain": [
       "['three', 'four', 'five']"
      ]
     },
     "execution_count": 21,
     "metadata": {},
     "output_type": "execute_result"
    }
   ],
   "source": [
    "divine[2:5]  # List all items from 2nd to 5th index location "
   ]
  },
  {
   "cell_type": "code",
   "execution_count": 22,
   "id": "6997bcc6",
   "metadata": {},
   "outputs": [
    {
     "data": {
      "text/plain": [
       "['one', 'two', 'three']"
      ]
     },
     "execution_count": 22,
     "metadata": {},
     "output_type": "execute_result"
    }
   ],
   "source": [
    "divine[:3]  # Return first three items"
   ]
  },
  {
   "cell_type": "code",
   "execution_count": 23,
   "id": "50dd21ad",
   "metadata": {},
   "outputs": [
    {
     "data": {
      "text/plain": [
       "['one', 'two']"
      ]
     },
     "execution_count": 23,
     "metadata": {},
     "output_type": "execute_result"
    }
   ],
   "source": [
    "divine[:2] # Return first two items "
   ]
  },
  {
   "cell_type": "code",
   "execution_count": 24,
   "id": "7da1397b",
   "metadata": {},
   "outputs": [
    {
     "data": {
      "text/plain": [
       "['six', 'seven', 'eight']"
      ]
     },
     "execution_count": 24,
     "metadata": {},
     "output_type": "execute_result"
    }
   ],
   "source": [
    "divine[-3:] # Return last three items "
   ]
  },
  {
   "cell_type": "code",
   "execution_count": 25,
   "id": "0e6bc861",
   "metadata": {},
   "outputs": [
    {
     "data": {
      "text/plain": [
       "['seven', 'eight']"
      ]
     },
     "execution_count": 25,
     "metadata": {},
     "output_type": "execute_result"
    }
   ],
   "source": [
    "divine[-2:] # Return last two items "
   ]
  },
  {
   "cell_type": "code",
   "execution_count": 27,
   "id": "6b8e34c6",
   "metadata": {},
   "outputs": [
    {
     "data": {
      "text/plain": [
       "['eight']"
      ]
     },
     "execution_count": 27,
     "metadata": {},
     "output_type": "execute_result"
    }
   ],
   "source": [
    "divine[-1:] # Return last one items "
   ]
  },
  {
   "cell_type": "code",
   "execution_count": 28,
   "id": "afe50096",
   "metadata": {},
   "outputs": [
    {
     "data": {
      "text/plain": [
       "['one', 'two', 'three', 'four', 'five', 'six', 'seven', 'eight']"
      ]
     },
     "execution_count": 28,
     "metadata": {},
     "output_type": "execute_result"
    }
   ],
   "source": [
    "divine[:] # Return whole list"
   ]
  },
  {
   "cell_type": "markdown",
   "id": "bc5773fb",
   "metadata": {},
   "source": [
    "# Add , Remove & Change Items"
   ]
  },
  {
   "cell_type": "code",
   "execution_count": 29,
   "id": "d5dace03",
   "metadata": {},
   "outputs": [
    {
     "data": {
      "text/plain": [
       "['one', 'two', 'three', 'four', 'five', 'six', 'seven', 'eight']"
      ]
     },
     "execution_count": 29,
     "metadata": {},
     "output_type": "execute_result"
    }
   ],
   "source": [
    "divine"
   ]
  },
  {
   "cell_type": "code",
   "execution_count": 30,
   "id": "f3c8846c",
   "metadata": {},
   "outputs": [
    {
     "data": {
      "text/plain": [
       "['one', 'two', 'three', 'four', 'five', 'six', 'seven', 'eight', 'nine']"
      ]
     },
     "execution_count": 30,
     "metadata": {},
     "output_type": "execute_result"
    }
   ],
   "source": [
    "divine.append('nine') # Add an item to the end of the list\n",
    "divine"
   ]
  },
  {
   "cell_type": "code",
   "execution_count": 31,
   "id": "c803efa8",
   "metadata": {},
   "outputs": [
    {
     "data": {
      "text/plain": [
       "['one', 'two', 'three', 'four', 'five', 'six', 'seven', 'eight', 'nine', 'ten']"
      ]
     },
     "execution_count": 31,
     "metadata": {},
     "output_type": "execute_result"
    }
   ],
   "source": [
    "divine.insert(9,'ten') # Add item at index location 9 \n",
    "divine"
   ]
  },
  {
   "cell_type": "code",
   "execution_count": 32,
   "id": "5911b3ef",
   "metadata": {},
   "outputs": [
    {
     "data": {
      "text/plain": [
       "['one',\n",
       " 'ONE',\n",
       " 'two',\n",
       " 'three',\n",
       " 'four',\n",
       " 'five',\n",
       " 'six',\n",
       " 'seven',\n",
       " 'eight',\n",
       " 'nine',\n",
       " 'ten']"
      ]
     },
     "execution_count": 32,
     "metadata": {},
     "output_type": "execute_result"
    }
   ],
   "source": [
    "divine.insert(1,'ONE') # Add item at index location 1 \n",
    "divine"
   ]
  },
  {
   "cell_type": "code",
   "execution_count": 37,
   "id": "4f765097",
   "metadata": {},
   "outputs": [
    {
     "data": {
      "text/plain": [
       "['one', 'two', 'three', 'four', 'five', 'six', 'seven', 'eight', 'nine', 'ten']"
      ]
     },
     "execution_count": 37,
     "metadata": {},
     "output_type": "execute_result"
    }
   ],
   "source": [
    "divine"
   ]
  },
  {
   "cell_type": "code",
   "execution_count": 38,
   "id": "d7fbfcde",
   "metadata": {},
   "outputs": [
    {
     "data": {
      "text/plain": [
       "['one',\n",
       " 'ONE',\n",
       " 'two',\n",
       " 'three',\n",
       " 'four',\n",
       " 'five',\n",
       " 'six',\n",
       " 'seven',\n",
       " 'eight',\n",
       " 'nine',\n",
       " 'ten']"
      ]
     },
     "execution_count": 38,
     "metadata": {},
     "output_type": "execute_result"
    }
   ],
   "source": [
    "divine.insert(1, 'ONE')\n",
    "divine"
   ]
  },
  {
   "cell_type": "code",
   "execution_count": 39,
   "id": "a0865c04",
   "metadata": {},
   "outputs": [
    {
     "data": {
      "text/plain": [
       "['one',\n",
       " 'ONE',\n",
       " 'two',\n",
       " 'three',\n",
       " 'four',\n",
       " 'five',\n",
       " 'six',\n",
       " 'seven',\n",
       " 'eight',\n",
       " 'nine',\n",
       " 'ten']"
      ]
     },
     "execution_count": 39,
     "metadata": {},
     "output_type": "execute_result"
    }
   ],
   "source": [
    "divine"
   ]
  },
  {
   "cell_type": "code",
   "execution_count": 41,
   "id": "cd78aeda",
   "metadata": {},
   "outputs": [
    {
     "ename": "ValueError",
     "evalue": "list.remove(x): x not in list",
     "output_type": "error",
     "traceback": [
      "\u001b[1;31m---------------------------------------------------------------------------\u001b[0m",
      "\u001b[1;31mValueError\u001b[0m                                Traceback (most recent call last)",
      "\u001b[1;32m~\\AppData\\Local\\Temp\\ipykernel_9800\\3052104923.py\u001b[0m in \u001b[0;36m<module>\u001b[1;34m\u001b[0m\n\u001b[1;32m----> 1\u001b[1;33m \u001b[0mdivine\u001b[0m\u001b[1;33m.\u001b[0m\u001b[0mremove\u001b[0m\u001b[1;33m(\u001b[0m\u001b[1;34m'ONE'\u001b[0m\u001b[1;33m)\u001b[0m\u001b[1;33m\u001b[0m\u001b[1;33m\u001b[0m\u001b[0m\n\u001b[0m\u001b[0;32m      2\u001b[0m \u001b[0mdivine\u001b[0m\u001b[1;33m\u001b[0m\u001b[1;33m\u001b[0m\u001b[0m\n",
      "\u001b[1;31mValueError\u001b[0m: list.remove(x): x not in list"
     ]
    }
   ],
   "source": [
    "divine.remove('ONE')\n",
    "divine"
   ]
  },
  {
   "cell_type": "code",
   "execution_count": 42,
   "id": "436a307e",
   "metadata": {},
   "outputs": [
    {
     "data": {
      "text/plain": [
       "['one', 'two', 'three', 'four', 'five', 'six', 'seven', 'eight', 'nine', 'ten']"
      ]
     },
     "execution_count": 42,
     "metadata": {},
     "output_type": "execute_result"
    }
   ],
   "source": [
    "divine"
   ]
  },
  {
   "cell_type": "code",
   "execution_count": 43,
   "id": "3040de25",
   "metadata": {},
   "outputs": [
    {
     "data": {
      "text/plain": [
       "['one',\n",
       " 'ONE',\n",
       " 'two',\n",
       " 'three',\n",
       " 'four',\n",
       " 'five',\n",
       " 'six',\n",
       " 'seven',\n",
       " 'eight',\n",
       " 'nine',\n",
       " 'ten']"
      ]
     },
     "execution_count": 43,
     "metadata": {},
     "output_type": "execute_result"
    }
   ],
   "source": [
    "divine.insert(1, 'ONE')\n",
    "divine"
   ]
  },
  {
   "cell_type": "code",
   "execution_count": 44,
   "id": "fee78376",
   "metadata": {},
   "outputs": [
    {
     "data": {
      "text/plain": [
       "['one',\n",
       " 'ONE',\n",
       " 'two',\n",
       " 'three',\n",
       " 'four',\n",
       " 'five',\n",
       " 'six',\n",
       " 'seven',\n",
       " 'eight',\n",
       " 'nine',\n",
       " 'ten']"
      ]
     },
     "execution_count": 44,
     "metadata": {},
     "output_type": "execute_result"
    }
   ],
   "source": [
    "divine"
   ]
  },
  {
   "cell_type": "code",
   "execution_count": 45,
   "id": "57545157",
   "metadata": {},
   "outputs": [
    {
     "data": {
      "text/plain": [
       "['one', 'two', 'three', 'four', 'five', 'six', 'seven', 'eight', 'nine', 'ten']"
      ]
     },
     "execution_count": 45,
     "metadata": {},
     "output_type": "execute_result"
    }
   ],
   "source": [
    "divine.remove('ONE')\n",
    "divine"
   ]
  },
  {
   "cell_type": "code",
   "execution_count": 46,
   "id": "ac6c299a",
   "metadata": {},
   "outputs": [
    {
     "data": {
      "text/plain": [
       "'ten'"
      ]
     },
     "execution_count": 46,
     "metadata": {},
     "output_type": "execute_result"
    }
   ],
   "source": [
    "divine.pop() # Remove last item of the list "
   ]
  },
  {
   "cell_type": "code",
   "execution_count": 47,
   "id": "3b84eaab",
   "metadata": {},
   "outputs": [
    {
     "data": {
      "text/plain": [
       "'nine'"
      ]
     },
     "execution_count": 47,
     "metadata": {},
     "output_type": "execute_result"
    }
   ],
   "source": [
    "divine.pop(8) # Remove item at index location 8 "
   ]
  },
  {
   "cell_type": "code",
   "execution_count": 48,
   "id": "d5c0c044",
   "metadata": {},
   "outputs": [],
   "source": [
    "del divine[7] # Remove item at index location 7"
   ]
  },
  {
   "cell_type": "code",
   "execution_count": 49,
   "id": "5ca3632f",
   "metadata": {},
   "outputs": [
    {
     "data": {
      "text/plain": [
       "['one', 'two', 'three', 'four', 'five', 'six', 'seven']"
      ]
     },
     "execution_count": 49,
     "metadata": {},
     "output_type": "execute_result"
    }
   ],
   "source": [
    "divine"
   ]
  },
  {
   "cell_type": "code",
   "execution_count": 50,
   "id": "96f73fc5",
   "metadata": {},
   "outputs": [
    {
     "data": {
      "text/plain": [
       "[1, 2, 3, 'four', 'five', 'six', 'seven']"
      ]
     },
     "execution_count": 50,
     "metadata": {},
     "output_type": "execute_result"
    }
   ],
   "source": [
    "# change value of the string\n",
    "divine[0] = 1 \n",
    "divine[1] = 2 \n",
    "divine[2] = 3 \n",
    "divine "
   ]
  },
  {
   "cell_type": "code",
   "execution_count": 51,
   "id": "df90eb0c",
   "metadata": {},
   "outputs": [
    {
     "data": {
      "text/plain": [
       "[]"
      ]
     },
     "execution_count": 51,
     "metadata": {},
     "output_type": "execute_result"
    }
   ],
   "source": [
    "divine.clear() # Empty List / Delete all items in the divine\n",
    "divine "
   ]
  },
  {
   "cell_type": "code",
   "execution_count": 52,
   "id": "05c42dc3",
   "metadata": {},
   "outputs": [
    {
     "ename": "NameError",
     "evalue": "name 'divine' is not defined",
     "output_type": "error",
     "traceback": [
      "\u001b[1;31m---------------------------------------------------------------------------\u001b[0m",
      "\u001b[1;31mNameError\u001b[0m                                 Traceback (most recent call last)",
      "\u001b[1;32m~\\AppData\\Local\\Temp\\ipykernel_9800\\3789678556.py\u001b[0m in \u001b[0;36m<module>\u001b[1;34m\u001b[0m\n\u001b[0;32m      1\u001b[0m \u001b[1;32mdel\u001b[0m \u001b[0mdivine\u001b[0m \u001b[1;31m# Delete the whole list\u001b[0m\u001b[1;33m\u001b[0m\u001b[1;33m\u001b[0m\u001b[0m\n\u001b[1;32m----> 2\u001b[1;33m \u001b[0mdivine\u001b[0m\u001b[1;33m\u001b[0m\u001b[1;33m\u001b[0m\u001b[0m\n\u001b[0m",
      "\u001b[1;31mNameError\u001b[0m: name 'divine' is not defined"
     ]
    }
   ],
   "source": [
    "del divine # Delete the whole list \n",
    "divine "
   ]
  },
  {
   "cell_type": "markdown",
   "id": "24fd1567",
   "metadata": {},
   "source": [
    "# Copy List "
   ]
  },
  {
   "cell_type": "code",
   "execution_count": 53,
   "id": "a97077bc",
   "metadata": {},
   "outputs": [],
   "source": [
    "divine = ['one', 'two', 'three', 'four', 'five', 'six', 'seven', 'eight', 'nine']"
   ]
  },
  {
   "cell_type": "code",
   "execution_count": 54,
   "id": "11be7dc9",
   "metadata": {},
   "outputs": [],
   "source": [
    "divine1 = divine # Create a new reference \"divine1\" "
   ]
  },
  {
   "cell_type": "code",
   "execution_count": 55,
   "id": "08f69d6f",
   "metadata": {},
   "outputs": [
    {
     "data": {
      "text/plain": [
       "(3084723984320, 3084723984320)"
      ]
     },
     "execution_count": 55,
     "metadata": {},
     "output_type": "execute_result"
    }
   ],
   "source": [
    "id(divine) , id(divine1) # The address of both divine & divine1 will be the same"
   ]
  },
  {
   "cell_type": "code",
   "execution_count": 56,
   "id": "917aca77",
   "metadata": {},
   "outputs": [],
   "source": [
    "divine2 = divine.copy() # Create a copy of the list "
   ]
  },
  {
   "cell_type": "code",
   "execution_count": 57,
   "id": "dbfb812d",
   "metadata": {},
   "outputs": [
    {
     "data": {
      "text/plain": [
       "3084724116096"
      ]
     },
     "execution_count": 57,
     "metadata": {},
     "output_type": "execute_result"
    }
   ],
   "source": [
    "id(divine2) # The address of divine2 will be different from divine because mylis"
   ]
  },
  {
   "cell_type": "code",
   "execution_count": 58,
   "id": "0611e644",
   "metadata": {},
   "outputs": [
    {
     "data": {
      "text/plain": [
       "[1, 'two', 'three', 'four', 'five', 'six', 'seven', 'eight', 'nine']"
      ]
     },
     "execution_count": 58,
     "metadata": {},
     "output_type": "execute_result"
    }
   ],
   "source": [
    "divine[0] = 1 \n",
    "divine"
   ]
  },
  {
   "cell_type": "code",
   "execution_count": 59,
   "id": "08544ab3",
   "metadata": {},
   "outputs": [
    {
     "data": {
      "text/plain": [
       "[1, 'two', 'three', 'four', 'five', 'six', 'seven', 'eight', 'nine']"
      ]
     },
     "execution_count": 59,
     "metadata": {},
     "output_type": "execute_result"
    }
   ],
   "source": [
    "divine1 # divine1 will be also impacted as it is pointing to the same list "
   ]
  },
  {
   "cell_type": "code",
   "execution_count": 60,
   "id": "2d7b043b",
   "metadata": {},
   "outputs": [
    {
     "data": {
      "text/plain": [
       "['one', 'two', 'three', 'four', 'five', 'six', 'seven', 'eight', 'nine']"
      ]
     },
     "execution_count": 60,
     "metadata": {},
     "output_type": "execute_result"
    }
   ],
   "source": [
    "divine2 # Copy of list won't be impacted due to changes made on the original list"
   ]
  },
  {
   "cell_type": "markdown",
   "id": "ef947395",
   "metadata": {},
   "source": [
    "# Join Lists "
   ]
  },
  {
   "cell_type": "code",
   "execution_count": 61,
   "id": "0ee7cbe9",
   "metadata": {},
   "outputs": [],
   "source": [
    "d1 = ['one', 'two', 'three', 'four'] \n",
    "d2 = ['five', 'six', 'seven', 'eight'] "
   ]
  },
  {
   "cell_type": "code",
   "execution_count": 62,
   "id": "d5415983",
   "metadata": {},
   "outputs": [
    {
     "data": {
      "text/plain": [
       "['one', 'two', 'three', 'four', 'five', 'six', 'seven', 'eight']"
      ]
     },
     "execution_count": 62,
     "metadata": {},
     "output_type": "execute_result"
    }
   ],
   "source": [
    "d3=d1+d2 # Join two lists by '+' operator\n",
    "d3"
   ]
  },
  {
   "cell_type": "code",
   "execution_count": 63,
   "id": "d591a0f9",
   "metadata": {},
   "outputs": [
    {
     "data": {
      "text/plain": [
       "['one', 'two', 'three', 'four', 'five', 'six', 'seven', 'eight']"
      ]
     },
     "execution_count": 63,
     "metadata": {},
     "output_type": "execute_result"
    }
   ],
   "source": [
    "d1.extend(d2) #Append d2 with d1 \n",
    "d1"
   ]
  },
  {
   "cell_type": "markdown",
   "id": "50a9005a",
   "metadata": {},
   "source": [
    "# List Membership "
   ]
  },
  {
   "cell_type": "code",
   "execution_count": 64,
   "id": "b0c9fb4f",
   "metadata": {},
   "outputs": [
    {
     "data": {
      "text/plain": [
       "['one', 'two', 'three', 'four', 'five', 'six', 'seven', 'eight']"
      ]
     },
     "execution_count": 64,
     "metadata": {},
     "output_type": "execute_result"
    }
   ],
   "source": [
    "d1"
   ]
  },
  {
   "cell_type": "code",
   "execution_count": 65,
   "id": "c7e6f112",
   "metadata": {},
   "outputs": [
    {
     "data": {
      "text/plain": [
       "True"
      ]
     },
     "execution_count": 65,
     "metadata": {},
     "output_type": "execute_result"
    }
   ],
   "source": [
    "'one' in d1 # Check if 'one' exist in the list "
   ]
  },
  {
   "cell_type": "code",
   "execution_count": 66,
   "id": "5dd1e628",
   "metadata": {},
   "outputs": [
    {
     "data": {
      "text/plain": [
       "False"
      ]
     },
     "execution_count": 66,
     "metadata": {},
     "output_type": "execute_result"
    }
   ],
   "source": [
    "'ten' in d1 # Check if 'ten' exist in the list "
   ]
  },
  {
   "cell_type": "code",
   "execution_count": 68,
   "id": "258cef0a",
   "metadata": {},
   "outputs": [
    {
     "name": "stdout",
     "output_type": "stream",
     "text": [
      "Three is present in the list\n"
     ]
    }
   ],
   "source": [
    "if 'three' in d1: # Check if 'three' exist in the list\n",
    "    print('Three is present in the list')\n",
    "else:\n",
    "    print('Three is not present in the list')"
   ]
  },
  {
   "cell_type": "code",
   "execution_count": 69,
   "id": "903d62ec",
   "metadata": {},
   "outputs": [
    {
     "name": "stdout",
     "output_type": "stream",
     "text": [
      "eleven is not present in the list\n"
     ]
    }
   ],
   "source": [
    "if 'eleven' in d1: # Check if 'eleven' exist in the list\n",
    "    print('eleven is present in the list')\n",
    "else:\n",
    "    print('eleven is not present in the list')"
   ]
  },
  {
   "cell_type": "markdown",
   "id": "380c0f3c",
   "metadata": {},
   "source": [
    "# Reverse and sort list"
   ]
  },
  {
   "cell_type": "code",
   "execution_count": 71,
   "id": "9806b510",
   "metadata": {},
   "outputs": [
    {
     "data": {
      "text/plain": [
       "['one', 'two', 'three', 'four', 'five', 'six', 'seven', 'eight']"
      ]
     },
     "execution_count": 71,
     "metadata": {},
     "output_type": "execute_result"
    }
   ],
   "source": [
    "d1"
   ]
  },
  {
   "cell_type": "code",
   "execution_count": 72,
   "id": "6f69c69e",
   "metadata": {},
   "outputs": [
    {
     "data": {
      "text/plain": [
       "['eight', 'seven', 'six', 'five', 'four', 'three', 'two', 'one']"
      ]
     },
     "execution_count": 72,
     "metadata": {},
     "output_type": "execute_result"
    }
   ],
   "source": [
    "d1.reverse() # Reverse the list\n",
    "d1"
   ]
  },
  {
   "cell_type": "code",
   "execution_count": 73,
   "id": "5c70e100",
   "metadata": {},
   "outputs": [
    {
     "data": {
      "text/plain": [
       "['one', 'two', 'three', 'four', 'five', 'six', 'seven', 'eight']"
      ]
     },
     "execution_count": 73,
     "metadata": {},
     "output_type": "execute_result"
    }
   ],
   "source": [
    "d1 = d1[::-1] # Reverse the list\n",
    "d1"
   ]
  },
  {
   "cell_type": "code",
   "execution_count": 74,
   "id": "a9cd1a94",
   "metadata": {},
   "outputs": [
    {
     "data": {
      "text/plain": [
       "[2, 5, 9, 12, 34, 88, 99]"
      ]
     },
     "execution_count": 74,
     "metadata": {},
     "output_type": "execute_result"
    }
   ],
   "source": [
    "d3 = [9,5,2,99,12,88,34] \n",
    "d3.sort() # Sort list in ascending order \n",
    "d3 "
   ]
  },
  {
   "cell_type": "code",
   "execution_count": 75,
   "id": "ae03c971",
   "metadata": {},
   "outputs": [
    {
     "data": {
      "text/plain": [
       "[99, 88, 34, 12, 9, 5, 2]"
      ]
     },
     "execution_count": 75,
     "metadata": {},
     "output_type": "execute_result"
    }
   ],
   "source": [
    "d3 = [9,5,2,99,12,88,34] \n",
    "d3.sort(reverse=True) # Sort list in descending order \n",
    "d3 "
   ]
  },
  {
   "cell_type": "code",
   "execution_count": 76,
   "id": "e805fd68",
   "metadata": {},
   "outputs": [
    {
     "data": {
      "text/plain": [
       "[11, 21, 33, 65, 88, 98]"
      ]
     },
     "execution_count": 76,
     "metadata": {},
     "output_type": "execute_result"
    }
   ],
   "source": [
    "d4 = [88,65,33,21,11,98] \n",
    "sorted(d4) # Returns a new sorted list and doesn't change original list"
   ]
  },
  {
   "cell_type": "code",
   "execution_count": 77,
   "id": "c8d78d01",
   "metadata": {},
   "outputs": [
    {
     "data": {
      "text/plain": [
       "[88, 65, 33, 21, 11, 98]"
      ]
     },
     "execution_count": 77,
     "metadata": {},
     "output_type": "execute_result"
    }
   ],
   "source": [
    "d4"
   ]
  },
  {
   "cell_type": "markdown",
   "id": "fabaa0fb",
   "metadata": {},
   "source": [
    "# Loop through a list "
   ]
  },
  {
   "cell_type": "code",
   "execution_count": 78,
   "id": "7e4d297c",
   "metadata": {},
   "outputs": [
    {
     "data": {
      "text/plain": [
       "['one', 'two', 'three', 'four', 'five', 'six', 'seven', 'eight']"
      ]
     },
     "execution_count": 78,
     "metadata": {},
     "output_type": "execute_result"
    }
   ],
   "source": [
    "d1"
   ]
  },
  {
   "cell_type": "code",
   "execution_count": 80,
   "id": "94be533b",
   "metadata": {},
   "outputs": [
    {
     "name": "stdout",
     "output_type": "stream",
     "text": [
      "one\n",
      "two\n",
      "three\n",
      "four\n",
      "five\n",
      "six\n",
      "seven\n",
      "eight\n"
     ]
    }
   ],
   "source": [
    "for i in d1: \n",
    "    print(i)"
   ]
  },
  {
   "cell_type": "code",
   "execution_count": 81,
   "id": "4e94e82f",
   "metadata": {},
   "outputs": [
    {
     "name": "stdout",
     "output_type": "stream",
     "text": [
      "(0, 'one')\n",
      "(1, 'two')\n",
      "(2, 'three')\n",
      "(3, 'four')\n",
      "(4, 'five')\n",
      "(5, 'six')\n",
      "(6, 'seven')\n",
      "(7, 'eight')\n"
     ]
    }
   ],
   "source": [
    "for i in enumerate(d1): \n",
    "    print(i)"
   ]
  },
  {
   "cell_type": "markdown",
   "id": "93be849d",
   "metadata": {},
   "source": [
    "# Count "
   ]
  },
  {
   "cell_type": "code",
   "execution_count": 82,
   "id": "140f81b0",
   "metadata": {},
   "outputs": [],
   "source": [
    "d10=['one', 'two', 'three', 'four', 'one', 'one', 'two', 'three'] "
   ]
  },
  {
   "cell_type": "code",
   "execution_count": 83,
   "id": "09bc9897",
   "metadata": {},
   "outputs": [
    {
     "data": {
      "text/plain": [
       "3"
      ]
     },
     "execution_count": 83,
     "metadata": {},
     "output_type": "execute_result"
    }
   ],
   "source": [
    "d10.count('one') # Number of times item \"one\" occurred in the list. "
   ]
  },
  {
   "cell_type": "code",
   "execution_count": 84,
   "id": "698774aa",
   "metadata": {},
   "outputs": [
    {
     "data": {
      "text/plain": [
       "2"
      ]
     },
     "execution_count": 84,
     "metadata": {},
     "output_type": "execute_result"
    }
   ],
   "source": [
    "d10.count('two') # Number of times item \"two\" occurred in the list. "
   ]
  },
  {
   "cell_type": "code",
   "execution_count": 85,
   "id": "ad52f989",
   "metadata": {},
   "outputs": [
    {
     "data": {
      "text/plain": [
       "1"
      ]
     },
     "execution_count": 85,
     "metadata": {},
     "output_type": "execute_result"
    }
   ],
   "source": [
    "d10.count('four') # Number of times item \"four\" occurred in the list. "
   ]
  },
  {
   "cell_type": "markdown",
   "id": "b4a79423",
   "metadata": {},
   "source": [
    "All / Any \n",
    " \n",
    "The all() method returns: \n",
    " \n",
    "True - If all elements in a list are true \n",
    "False - If any element in a list is false \n",
    " \n",
    "The any() function returns True if any element in the list is True. If not, any() returns False. "
   ]
  },
  {
   "cell_type": "code",
   "execution_count": 86,
   "id": "3d975717",
   "metadata": {},
   "outputs": [],
   "source": [
    "p1 = [1,2,3,4,0] "
   ]
  },
  {
   "cell_type": "code",
   "execution_count": 88,
   "id": "9645093d",
   "metadata": {},
   "outputs": [
    {
     "data": {
      "text/plain": [
       "False"
      ]
     },
     "execution_count": 88,
     "metadata": {},
     "output_type": "execute_result"
    }
   ],
   "source": [
    "all(p1) # Will Return false as one value is false (Value 0) "
   ]
  },
  {
   "cell_type": "code",
   "execution_count": 89,
   "id": "571cbb27",
   "metadata": {},
   "outputs": [
    {
     "data": {
      "text/plain": [
       "True"
      ]
     },
     "execution_count": 89,
     "metadata": {},
     "output_type": "execute_result"
    }
   ],
   "source": [
    "any(p1) # Will Return True as we have items in the list with True value "
   ]
  },
  {
   "cell_type": "code",
   "execution_count": 92,
   "id": "54538ccb",
   "metadata": {},
   "outputs": [],
   "source": [
    "p2=[0,0,0]"
   ]
  },
  {
   "cell_type": "code",
   "execution_count": 93,
   "id": "e74e9adc",
   "metadata": {},
   "outputs": [
    {
     "data": {
      "text/plain": [
       "False"
      ]
     },
     "execution_count": 93,
     "metadata": {},
     "output_type": "execute_result"
    }
   ],
   "source": [
    "all(p2)"
   ]
  },
  {
   "cell_type": "code",
   "execution_count": 94,
   "id": "c2c3690d",
   "metadata": {},
   "outputs": [
    {
     "data": {
      "text/plain": [
       "False"
      ]
     },
     "execution_count": 94,
     "metadata": {},
     "output_type": "execute_result"
    }
   ],
   "source": [
    "any(p2)"
   ]
  },
  {
   "cell_type": "code",
   "execution_count": 95,
   "id": "499e4357",
   "metadata": {},
   "outputs": [],
   "source": [
    "p3= [1,2,3,4,True,False] "
   ]
  },
  {
   "cell_type": "code",
   "execution_count": 96,
   "id": "f08719e7",
   "metadata": {},
   "outputs": [
    {
     "data": {
      "text/plain": [
       "False"
      ]
     },
     "execution_count": 96,
     "metadata": {},
     "output_type": "execute_result"
    }
   ],
   "source": [
    "all(p3) # Returns false as one value is false "
   ]
  },
  {
   "cell_type": "code",
   "execution_count": 97,
   "id": "9adf67d1",
   "metadata": {},
   "outputs": [
    {
     "data": {
      "text/plain": [
       "True"
      ]
     },
     "execution_count": 97,
     "metadata": {},
     "output_type": "execute_result"
    }
   ],
   "source": [
    "any(p3) # Will Return True as we have items in the list with True value "
   ]
  },
  {
   "cell_type": "code",
   "execution_count": 98,
   "id": "b76fc865",
   "metadata": {},
   "outputs": [],
   "source": [
    "p4 = [1,2,3,True] "
   ]
  },
  {
   "cell_type": "code",
   "execution_count": 99,
   "id": "3585af86",
   "metadata": {},
   "outputs": [
    {
     "data": {
      "text/plain": [
       "True"
      ]
     },
     "execution_count": 99,
     "metadata": {},
     "output_type": "execute_result"
    }
   ],
   "source": [
    "all(p4) # Will return True as all items in the list are True "
   ]
  },
  {
   "cell_type": "code",
   "execution_count": null,
   "id": "b09863d9",
   "metadata": {},
   "outputs": [],
   "source": []
  },
  {
   "cell_type": "code",
   "execution_count": null,
   "id": "4adef678",
   "metadata": {},
   "outputs": [],
   "source": []
  },
  {
   "cell_type": "code",
   "execution_count": null,
   "id": "6d322869",
   "metadata": {},
   "outputs": [],
   "source": []
  }
 ],
 "metadata": {
  "kernelspec": {
   "display_name": "Python 3 (ipykernel)",
   "language": "python",
   "name": "python3"
  },
  "language_info": {
   "codemirror_mode": {
    "name": "ipython",
    "version": 3
   },
   "file_extension": ".py",
   "mimetype": "text/x-python",
   "name": "python",
   "nbconvert_exporter": "python",
   "pygments_lexer": "ipython3",
   "version": "3.9.13"
  }
 },
 "nbformat": 4,
 "nbformat_minor": 5
}
